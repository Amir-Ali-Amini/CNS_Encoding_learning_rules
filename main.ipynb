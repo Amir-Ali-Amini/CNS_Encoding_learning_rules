{
 "cells": [
  {
   "cell_type": "code",
   "execution_count": 1,
   "metadata": {},
   "outputs": [],
   "source": [
    "import pymonntorch as pmt\n",
    "import torch \n",
    "from matplotlib import pyplot as plt"
   ]
  },
  {
   "cell_type": "code",
   "execution_count": 2,
   "metadata": {},
   "outputs": [],
   "source": [
    "import model as mdl\n",
    "import current as cnt\n",
    "from getDevice import get_device\n",
    "from dt import TimeResolution\n",
    "from plot import plot\n",
    "import inputData"
   ]
  },
  {
   "cell_type": "code",
   "execution_count": 3,
   "metadata": {},
   "outputs": [
    {
     "name": "stdout",
     "output_type": "stream",
     "text": [
      "mps is available but it is forced to use CPU\n"
     ]
    }
   ],
   "source": [
    "\n",
    "def simulate(title=\"LIF\",\n",
    "              model=mdl.LIF(),\n",
    "              current=cnt.SteadyCurrent(value=6),\n",
    "                DEVICE=get_device(force_cpu=True )[0],\n",
    "                 dt=0.5 ,\n",
    "                 iteration=1000,\n",
    "                 ng_size=2,\n",
    "                 print_plots = True):\n",
    "\n",
    "      net = pmt.Network(device=DEVICE, dtype=torch.float32, behavior={1: TimeResolution(dt=dt)})\n",
    "\n",
    "      ng = pmt.NeuronGroup(size= ng_size,net= net, behavior= {\n",
    "                                        2: current,\n",
    "                                        3: inputData.TTFS(data=[1,2,3,4,5]),\n",
    "                                        4: model,\n",
    "                                        \n",
    "                                        9: pmt.Recorder(variables=[\"u\", \"I\",\"w\"], tag=\"ng1_rec, ng1_recorder\"),\n",
    "                                        10: pmt.EventRecorder(\"spike\", tag=\"ng1_evrec\"),\n",
    "                                      }\n",
    "                                      )\n",
    "\n",
    "\n",
    "\n",
    "      net.initialize()\n",
    "\n",
    "      net.simulate_iterations(iteration)\n",
    "\n",
    "      plot_title = f\"[[{title}]]\\n\"\n",
    "      mean_u = torch.sum(net[\"u\", 0], axis=0) / (iteration)\n",
    "      mean_I = torch.sum(net[\"I\", 0], axis=0) / (iteration)\n",
    "\n",
    "      plot_title += \"\\n\".join([ f\"current: {ng[2][0]}\", \n",
    "                               f\"model: {ng[4][0]}\", \n",
    "                               f\"time resolution: {dt}\", \n",
    "                               f\"ng size: {ng_size}\", \n",
    "                               f\"iteration num: {iteration}\",\n",
    "                               f\"mean u: {mean_u}\",\n",
    "                               f\"mean I: {mean_I}\",\n",
    "                                 ])\n",
    "\n",
    "\n",
    "      print_plots and plot(net,plot_title)\n",
    "      return net"
   ]
  },
  {
   "cell_type": "code",
   "execution_count": 4,
   "metadata": {},
   "outputs": [
    {
     "name": "stdout",
     "output_type": "stream",
     "text": [
      "Network['Network_1', 'Network'](Neurons: tensor(2)|1 groups, Synapses: tensor(0.)|0 groups){1:TimeResolution(dt=0.5,)}\n",
      "NeuronGroup['NeuronGroup_1', 'NeuronGroup', 'ng'](2){2:SteadyCurrent(value=6,)3:TTFS(data=[1, 2, 3, 4, 5],)4:BaseModel(threshold=-55,u_reset=-70,u_rest=-65,R=1.7,tau_m=10,refractory_period=0,)9:Recorder(variables=['u', 'I', 'w'],gap_width=0,max_length=None,auto_annotate=True,tag=ng1_rec, ng1_recorder,)10:EventRecorder(variables=None,gap_width=0,max_length=None,auto_annotate=True,tag=ng1_evrec,arg_0=spike,)}\n"
     ]
    },
    {
     "ename": "AttributeError",
     "evalue": "'TTFS' object has no attribute 'theta'",
     "output_type": "error",
     "traceback": [
      "\u001b[0;31m---------------------------------------------------------------------------\u001b[0m",
      "\u001b[0;31mAttributeError\u001b[0m                            Traceback (most recent call last)",
      "Cell \u001b[0;32mIn[4], line 1\u001b[0m\n\u001b[0;32m----> 1\u001b[0m \u001b[43msimulate\u001b[49m\u001b[43m(\u001b[49m\u001b[43m)\u001b[49m\n",
      "Cell \u001b[0;32mIn[3], line 24\u001b[0m, in \u001b[0;36msimulate\u001b[0;34m(title, model, current, DEVICE, dt, iteration, ng_size, print_plots)\u001b[0m\n\u001b[1;32m     10\u001b[0m net \u001b[38;5;241m=\u001b[39m pmt\u001b[38;5;241m.\u001b[39mNetwork(device\u001b[38;5;241m=\u001b[39mDEVICE, dtype\u001b[38;5;241m=\u001b[39mtorch\u001b[38;5;241m.\u001b[39mfloat32, behavior\u001b[38;5;241m=\u001b[39m{\u001b[38;5;241m1\u001b[39m: TimeResolution(dt\u001b[38;5;241m=\u001b[39mdt)})\n\u001b[1;32m     12\u001b[0m ng \u001b[38;5;241m=\u001b[39m pmt\u001b[38;5;241m.\u001b[39mNeuronGroup(size\u001b[38;5;241m=\u001b[39m ng_size,net\u001b[38;5;241m=\u001b[39m net, behavior\u001b[38;5;241m=\u001b[39m {\n\u001b[1;32m     13\u001b[0m                                   \u001b[38;5;241m2\u001b[39m: current,\n\u001b[1;32m     14\u001b[0m                                   \u001b[38;5;241m3\u001b[39m: inputData\u001b[38;5;241m.\u001b[39mTTFS(data\u001b[38;5;241m=\u001b[39m[\u001b[38;5;241m1\u001b[39m,\u001b[38;5;241m2\u001b[39m,\u001b[38;5;241m3\u001b[39m,\u001b[38;5;241m4\u001b[39m,\u001b[38;5;241m5\u001b[39m]),\n\u001b[0;32m   (...)\u001b[0m\n\u001b[1;32m     19\u001b[0m                                 }\n\u001b[1;32m     20\u001b[0m                                 )\n\u001b[0;32m---> 24\u001b[0m \u001b[43mnet\u001b[49m\u001b[38;5;241;43m.\u001b[39;49m\u001b[43minitialize\u001b[49m\u001b[43m(\u001b[49m\u001b[43m)\u001b[49m\n",
      "File \u001b[0;32m~/Library/Mobile Documents/com~apple~CloudDocs/Me/University/Term 8/CNS/HomeWork/CNSVEnv/lib/python3.11/site-packages/pymonntorch/NetworkCore/Network.py:194\u001b[0m, in \u001b[0;36mNetwork.initialize\u001b[0;34m(self, info, warnings, storage_manager)\u001b[0m\n\u001b[1;32m    191\u001b[0m     \u001b[38;5;28;01mif\u001b[39;00m storage_manager \u001b[38;5;129;01mis\u001b[39;00m \u001b[38;5;129;01mnot\u001b[39;00m \u001b[38;5;28;01mNone\u001b[39;00m:\n\u001b[1;32m    192\u001b[0m         storage_manager\u001b[38;5;241m.\u001b[39msave_param(\u001b[38;5;124m\"\u001b[39m\u001b[38;5;124minfo\u001b[39m\u001b[38;5;124m\"\u001b[39m, desc)\n\u001b[0;32m--> 194\u001b[0m \u001b[38;5;28;43mself\u001b[39;49m\u001b[38;5;241;43m.\u001b[39;49m\u001b[43minitialize_behaviors\u001b[49m\u001b[43m(\u001b[49m\u001b[43m)\u001b[49m\n\u001b[1;32m    195\u001b[0m \u001b[38;5;28mself\u001b[39m\u001b[38;5;241m.\u001b[39mcheck_unique_tags(warnings)\n\u001b[1;32m    196\u001b[0m \u001b[38;5;28mself\u001b[39m\u001b[38;5;241m.\u001b[39mfill_substructures()\n",
      "File \u001b[0;32m~/Library/Mobile Documents/com~apple~CloudDocs/Me/University/Term 8/CNS/HomeWork/CNSVEnv/lib/python3.11/site-packages/pymonntorch/NetworkCore/Network.py:201\u001b[0m, in \u001b[0;36mNetwork.initialize_behaviors\u001b[0;34m(self)\u001b[0m\n\u001b[1;32m    199\u001b[0m \u001b[38;5;28;01mfor\u001b[39;00m key, parent, behavior \u001b[38;5;129;01min\u001b[39;00m \u001b[38;5;28mself\u001b[39m\u001b[38;5;241m.\u001b[39msorted_behavior_execution_list:\n\u001b[1;32m    200\u001b[0m     \u001b[38;5;28;01mif\u001b[39;00m \u001b[38;5;129;01mnot\u001b[39;00m behavior\u001b[38;5;241m.\u001b[39minitialize_on_init \u001b[38;5;129;01mand\u001b[39;00m \u001b[38;5;129;01mnot\u001b[39;00m behavior\u001b[38;5;241m.\u001b[39minitialize_last:\n\u001b[0;32m--> 201\u001b[0m         \u001b[43mbehavior\u001b[49m\u001b[38;5;241;43m.\u001b[39;49m\u001b[43minitialize\u001b[49m\u001b[43m(\u001b[49m\u001b[43mparent\u001b[49m\u001b[43m)\u001b[49m\n\u001b[1;32m    202\u001b[0m         behavior\u001b[38;5;241m.\u001b[39mcheck_unused_attrs()\n\u001b[1;32m    204\u001b[0m \u001b[38;5;28;01mfor\u001b[39;00m key, parent, behavior \u001b[38;5;129;01min\u001b[39;00m \u001b[38;5;28mself\u001b[39m\u001b[38;5;241m.\u001b[39msorted_behavior_execution_list:\n",
      "File \u001b[0;32m~/Library/Mobile Documents/com~apple~CloudDocs/Me/University/Term 8/CNS/HomeWork/amini-amirali-610399102-cns-p03/code/inputData.py:28\u001b[0m, in \u001b[0;36mTTFS.initialize\u001b[0;34m(self, ng)\u001b[0m\n\u001b[1;32m     25\u001b[0m data \u001b[38;5;241m=\u001b[39m (data \u001b[38;5;241m-\u001b[39m data_min) \u001b[38;5;241m/\u001b[39m (data_range)  \u001b[38;5;66;03m# -> [0,1]\u001b[39;00m\n\u001b[1;32m     26\u001b[0m data \u001b[38;5;241m=\u001b[39m data \u001b[38;5;241m*\u001b[39m (\u001b[38;5;241m1\u001b[39m \u001b[38;5;241m-\u001b[39m \u001b[38;5;28mself\u001b[39m\u001b[38;5;241m.\u001b[39mepsilon) \u001b[38;5;241m+\u001b[39m \u001b[38;5;28mself\u001b[39m\u001b[38;5;241m.\u001b[39mepsilon  \u001b[38;5;66;03m# -> [epsilon,1]\u001b[39;00m\n\u001b[0;32m---> 28\u001b[0m tau \u001b[38;5;241m=\u001b[39m \u001b[38;5;241m-\u001b[39m\u001b[38;5;28mself\u001b[39m\u001b[38;5;241m.\u001b[39mtime \u001b[38;5;241m/\u001b[39m torch\u001b[38;5;241m.\u001b[39mlog(\u001b[38;5;28mself\u001b[39m\u001b[38;5;241m.\u001b[39mepsilon \u001b[38;5;241m/\u001b[39m \u001b[38;5;28;43mself\u001b[39;49m\u001b[38;5;241;43m.\u001b[39;49m\u001b[43mtheta\u001b[49m)\n",
      "File \u001b[0;32m~/Library/Mobile Documents/com~apple~CloudDocs/Me/University/Term 8/CNS/HomeWork/CNSVEnv/lib/python3.11/site-packages/torch/nn/modules/module.py:1688\u001b[0m, in \u001b[0;36mModule.__getattr__\u001b[0;34m(self, name)\u001b[0m\n\u001b[1;32m   1686\u001b[0m     \u001b[38;5;28;01mif\u001b[39;00m name \u001b[38;5;129;01min\u001b[39;00m modules:\n\u001b[1;32m   1687\u001b[0m         \u001b[38;5;28;01mreturn\u001b[39;00m modules[name]\n\u001b[0;32m-> 1688\u001b[0m \u001b[38;5;28;01mraise\u001b[39;00m \u001b[38;5;167;01mAttributeError\u001b[39;00m(\u001b[38;5;124mf\u001b[39m\u001b[38;5;124m\"\u001b[39m\u001b[38;5;124m'\u001b[39m\u001b[38;5;132;01m{\u001b[39;00m\u001b[38;5;28mtype\u001b[39m(\u001b[38;5;28mself\u001b[39m)\u001b[38;5;241m.\u001b[39m\u001b[38;5;18m__name__\u001b[39m\u001b[38;5;132;01m}\u001b[39;00m\u001b[38;5;124m'\u001b[39m\u001b[38;5;124m object has no attribute \u001b[39m\u001b[38;5;124m'\u001b[39m\u001b[38;5;132;01m{\u001b[39;00mname\u001b[38;5;132;01m}\u001b[39;00m\u001b[38;5;124m'\u001b[39m\u001b[38;5;124m\"\u001b[39m)\n",
      "\u001b[0;31mAttributeError\u001b[0m: 'TTFS' object has no attribute 'theta'"
     ]
    }
   ],
   "source": [
    "simulate()"
   ]
  },
  {
   "cell_type": "code",
   "execution_count": null,
   "metadata": {},
   "outputs": [],
   "source": []
  }
 ],
 "metadata": {
  "kernelspec": {
   "display_name": "CNSVEnv",
   "language": "python",
   "name": "python3"
  },
  "language_info": {
   "codemirror_mode": {
    "name": "ipython",
    "version": 3
   },
   "file_extension": ".py",
   "mimetype": "text/x-python",
   "name": "python",
   "nbconvert_exporter": "python",
   "pygments_lexer": "ipython3",
   "version": "3.11.8"
  }
 },
 "nbformat": 4,
 "nbformat_minor": 2
}
